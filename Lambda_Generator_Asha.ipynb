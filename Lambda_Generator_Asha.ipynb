{
 "cells": [
  {
   "cell_type": "code",
   "execution_count": 23,
   "id": "76c5f627",
   "metadata": {},
   "outputs": [
    {
     "name": "stdout",
     "output_type": "stream",
     "text": [
      "2 3 5 7 11 13 17 19 23 29  h   he   hel   hel   helo  "
     ]
    }
   ],
   "source": [
    "#Generator Excercises\n",
    "\n",
    "#Problem 1\n",
    "#Create a generator, primes_gen that generates prime numbers starting from 2.\n",
    "\n",
    "def primes_gen():\n",
    "    i=1\n",
    "    while True:\n",
    "        i+=1\n",
    "        for num in range(2,i+1):\n",
    "            if i== num:\n",
    "                yield i\n",
    "            if i % num==0:\n",
    "                break\n",
    "\n",
    "gen = primes_gen()\n",
    "for _ in range(10):\n",
    "    print(next(gen), end=' ')\n",
    "# Expected output\n",
    "# 2 3 5 7 11 13 17 19 23 29\n",
    "#----------------------------------------------------------------------------\n",
    "\n",
    "#Problem 2\n",
    "#Create a generator, unique_letters that generates unique letters from\n",
    "#the input string. It should generate the letters in the same order as\n",
    "#from the input string.\n",
    "\n",
    "def unique_letters(str):\n",
    "    unique_letters = \" \"\n",
    "    \n",
    "    for letter in str:\n",
    "        if letter not in unique_letters:\n",
    "            unique_letters += letter\n",
    "        yield unique_letters\n",
    "            \n",
    "\n",
    "for letter in unique_letters('hello'):\n",
    "    print(letter, end='  ')\n",
    "    \n",
    "    \n",
    "    \n",
    "# Expected output\n",
    "# h e l o"
   ]
  },
  {
   "cell_type": "code",
   "execution_count": 22,
   "id": "ecbb504d",
   "metadata": {},
   "outputs": [
    {
     "name": "stdout",
     "output_type": "stream",
     "text": [
      "[('Scala', 2.13), ('Python', 3.8), ('Java', 13), ('JavaScript', 2019)]\n",
      "[('JavaScript', 2019), ('Python', 3.8), ('Scala', 2.13), ('Java', 13)]\n",
      "[('Java', 13), ('JavaScript', 2019), ('Scala', 2.13)]\n",
      "[('Java', 13), ('JavaScript', 2019)]\n",
      "(('python', 6), ('java', 4), ('javascript', 10), ('scala', 5))\n"
     ]
    }
   ],
   "source": [
    "\n",
    "prog_lang = [('Python', 3.8),\n",
    "    ('Java', 13),\n",
    "    ('JavaScript', 2019),\n",
    "    ('Scala', 2.13)]\n",
    "from functools import reduce\n",
    "\n",
    "\n",
    "#1. Sort the list by each language's version in ascending order.\n",
    "#[('Scala', 2.13), ('Python', 3.8), ('Java', 13), ('JavaScript', 2019)]\n",
    "\n",
    "pl1 = sorted(prog_lang, key=lambda x:x[1])\n",
    "print(pl1)\n",
    "\n",
    "\n",
    "#---------------------------------\n",
    "\n",
    "#2. Sort the list by the length of the name of each language in descending order.\n",
    "#[('JavaScript', 2019), ('Python', 3.8), ('Scala', 2.13), ('Java', 13)]\n",
    "\n",
    "pl2 = sorted(prog_lang,key=lambda x: len(x[0]),reverse = True)\n",
    "print(pl2)\n",
    "\n",
    "#------------------------------------------\n",
    "\n",
    "\n",
    "#3. Filter the list so that it only contains languages with 'a' in it.\n",
    "#[('Java', 13), ('JavaScript', 2019), ('Scala', 2.13)]\n",
    "\n",
    "pl3 = list(filter(lambda x: \"a\" in x[0], prog_lang))\n",
    "print(pl3)\n",
    "#-------------------------------------\n",
    "\n",
    "#4. Filter the list so that it only contains languages whose version is in integer form.\n",
    "#[('Java', 13), ('JavaScript', 2019)]\n",
    "\n",
    "pl4 = list(filter(lambda x: type(x[1]) == int, prog_lang))\n",
    "print(pl4)\n",
    "#-----------------------------------\n",
    "\n",
    "#5. Transform the list so that it contains the tuples in the form,\n",
    "#(\"language in all lower case\", length of the language string)\n",
    "#[('python', 6), ('java', 4), ('javascript', 10), ('scala', 5)]\n",
    "\n",
    "pl5 = tuple(map(lambda x: (x[0].lower(), len(x[0])), prog_lang))\n",
    "print(pl5)\n",
    "#-----------------------------------------\n",
    "#6. Generate a tuple in the form,\n",
    "#(\"All languages separated by commas\",\"All versions separated by commas\")\n",
    "#('Python,Java,JavaScript,Scala', '3.8,13,2019,2.13')\n",
    "\n",
    "\n"
   ]
  },
  {
   "cell_type": "code",
   "execution_count": null,
   "id": "c9fff79a",
   "metadata": {},
   "outputs": [],
   "source": []
  },
  {
   "cell_type": "code",
   "execution_count": null,
   "id": "9e85ba96",
   "metadata": {},
   "outputs": [],
   "source": []
  },
  {
   "cell_type": "code",
   "execution_count": null,
   "id": "f5114742",
   "metadata": {},
   "outputs": [],
   "source": []
  },
  {
   "cell_type": "code",
   "execution_count": null,
   "id": "6fb5d2ad",
   "metadata": {},
   "outputs": [],
   "source": []
  },
  {
   "cell_type": "code",
   "execution_count": null,
   "id": "a5777b6b",
   "metadata": {},
   "outputs": [],
   "source": []
  },
  {
   "cell_type": "code",
   "execution_count": null,
   "id": "5a76a52a",
   "metadata": {},
   "outputs": [],
   "source": []
  }
 ],
 "metadata": {
  "kernelspec": {
   "display_name": "Python 3 (ipykernel)",
   "language": "python",
   "name": "python3"
  },
  "language_info": {
   "codemirror_mode": {
    "name": "ipython",
    "version": 3
   },
   "file_extension": ".py",
   "mimetype": "text/x-python",
   "name": "python",
   "nbconvert_exporter": "python",
   "pygments_lexer": "ipython3",
   "version": "3.9.12"
  }
 },
 "nbformat": 4,
 "nbformat_minor": 5
}
